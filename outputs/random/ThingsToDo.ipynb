{
 "cells": [
  {
   "cell_type": "code",
   "execution_count": 66,
   "metadata": {},
   "outputs": [],
   "source": [
    "import numpy as np\n",
    "import networkx as nx\n",
    "import matplotlib.pyplot as plt\n",
    "\n",
    "p_edge = 1\n",
    "K = 5\n",
    "\n",
    "def graph(G):\n",
    "    lambda_2 = 1\n",
    "    C = nx.to_numpy_array(G)\n",
    "    K = C.shape[0] \n",
    "    while lambda_2 > 0.99999999:\n",
    "        # C = np.eye(K)\n",
    "        # for k in range(K):\n",
    "        #     for l in range(k+1, K):\n",
    "        #         connected = np.random.binomial(1, p_edge) # 1 if connected, 0 otherwise probability of 1 is p_edge\n",
    "        #         if connected == 1:\n",
    "        #             C[l, k] = 1\n",
    "        #             C[k, l] = 1\n",
    "\n",
    "        # C is an undericted graph\n",
    "        # in my example I should have a parameter on how many edges I want to have\n",
    "    \n",
    "\n",
    "    # mult C by Kx1 matrix to create a sum of the rows on the diagnonal giving a Kx1 matrix\n",
    "        n = C @ np.ones((K,))\n",
    "        \n",
    "        # Follow Metrolpolis formula\n",
    "        A = np.zeros((K, K))\n",
    "        for k in range(K):\n",
    "            for l in range(k+1, K):\n",
    "                if C[k, l] == 1:\n",
    "                    A[k, l] = np.true_divide(1, np.max([n[k], n[l]]))\n",
    "                    A[l, k] = A[k, l]\n",
    "\n",
    "        degrees = A @ np.ones((K,))\n",
    "        for k in range(K):\n",
    "            A[k, k] = 1 - degrees[k]\n",
    "        \n",
    "        eigs = np.linalg.eigvalsh(A)\n",
    "        lambda_2 = eigs[-2]\n",
    "\n",
    "    return A\n",
    "\n"
   ]
  },
  {
   "cell_type": "code",
   "execution_count": 90,
   "metadata": {},
   "outputs": [
    {
     "name": "stdout",
     "output_type": "stream",
     "text": [
      "C Graph with 5 nodes and 6 edges\n",
      "C:  [[0. 1. 1. 0. 0.]\n",
      " [1. 0. 0. 1. 1.]\n",
      " [1. 0. 0. 0. 1.]\n",
      " [0. 1. 0. 0. 1.]\n",
      " [0. 1. 1. 1. 0.]]\n",
      "3.0\n",
      "2.0\n",
      "3.0\n",
      "3.0\n",
      "3.0\n",
      "3.0\n",
      "0.8333333333333333\n",
      "1.0\n",
      "0.8333333333333333\n",
      "0.6666666666666666\n",
      "1.0\n",
      "A [[0.16666667 0.33333333 0.5        0.         0.        ]\n",
      " [0.33333333 0.         0.         0.33333333 0.33333333]\n",
      " [0.5        0.         0.16666667 0.         0.33333333]\n",
      " [0.         0.33333333 0.         0.33333333 0.33333333]\n",
      " [0.         0.33333333 0.33333333 0.33333333 0.        ]]\n"
     ]
    },
    {
     "data": {
      "image/png": "[encoded data removed]",
      "text/plain": [
       "<Figure size 640x480 with 1 Axes>"
      ]
     },
     "metadata": {},
     "output_type": "display_data"
    }
   ],
   "source": [
    "\n",
    "\n",
    "def generate_erdos_renyi_graph(num_users, edge_prob):\n",
    "     return nx.erdos_renyi_graph(n=num_users, p=edge_prob)\n",
    "\n",
    "\n",
    "def generate_mixing_matrix(communication_graph):\n",
    "    K = len(communication_graph.nodes)\n",
    "    A = torch.zeros((K, K))\n",
    "    for i in communication_graph.nodes:\n",
    "        for j in communication_graph.nodes:\n",
    "            if i != j and (i, j) in communication_graph.edges:\n",
    "                A[i, j] = 1.0 / max(communication_graph.degree[i], communication_graph.degree[j])\n",
    "\n",
    "    for i in range(K):\n",
    "        A[i, i] = 1 - A[i].sum()\n",
    "\n",
    "    return A\n",
    "\n",
    "def construct_metropolis_combination_matrix(G):\n",
    "    \"\"\"Constructs the Metropolis rule combination matrix from a NetworkX graph.\"\"\"\n",
    "    # Convert graph to adjacency matrix as a numpy array\n",
    "    C = nx.to_numpy_array(G)\n",
    "\n",
    "    K = C.shape[0]  # Number of nodes\n",
    "    n = C @ np.ones((K,))\n",
    "    \n",
    "    # Initialize the combination matrix A with zeros\n",
    "    A = np.zeros((K, K))\n",
    "    \n",
    "    # Compute off-diagonal elements according to Metropolis rule\n",
    "    for k in range(K):\n",
    "        for l in range(k + 1, K):  # Only upper triangle needed due to symmetry\n",
    "            if C[k, l] == 1:\n",
    "                A[k, l] = np.true_divide(1, np.max([n[k], n[l]]))\n",
    "                print(np.max([n[k], n[l]]))\n",
    "                A[l, k] = A[k, l]\n",
    "\n",
    "    \n",
    "    # Compute diagonal elements to make rows sum to 1\n",
    "    degrees = A @ np.ones((K,))\n",
    "    for k in range(K):\n",
    "        A[k, k] = 1 - degrees[k]\n",
    "        print(degrees[k])\n",
    "\n",
    "    return A\n",
    "\n",
    "C = generate_erdos_renyi_graph(5, 0.5)\n",
    "print(\"C\", C)\n",
    "# A = graph(C)\n",
    "A = construct_metropolis_combination_matrix(C)\n",
    "print(\"A\", A)\n",
    "nx.draw(C)\n",
    "# nx.draw(A)\n",
    "\n",
    "# print(A)\n"
   ]
  },
  {
   "cell_type": "markdown",
   "metadata": {},
   "source": [
    "#### Things To Do"
   ]
  },
  {
   "cell_type": "markdown",
   "metadata": {},
   "source": [
    "* Implement basic multi agent-in a graph setting\n",
    "* U\n",
    "* Check out Vlaski work on Exact diffusion\n",
    "    * https://github.com/MultiAgentOptimizationAndLearning/labs/blob/main/Lab_2_Decentralized_Learning.ipynb\n",
    "    \n",
    "    * Incorporate exact diffusion to the model\n"
   ]
  },
  {
   "cell_type": "markdown",
   "metadata": {},
   "source": [
    "### Project Plan \n",
    "* **Erdos-Renyi model -**   that is a G(n, M) model: A graph of n vertices is constructed, and exactly M edges are added to the graph choosing at random from all possible edges.\n",
    "    * The goal is to see what effect the reduction of nubmer of edges does to the accuracy and robustness of the model\n",
    "    * In the case where M = n the model results should be the same as federated case\n",
    "\n",
    "* **Exact Diffusion** in the case of non-IID data performs considerably better\n"
   ]
  },
  {
   "cell_type": "markdown",
   "metadata": {},
   "source": [
    "#### Federated SimCLR code structure\n",
    "\n",
    "Federated SimCLR\n",
    "\n",
    "    1. First load dataset CIFAR10 - get_dataset\n",
    "    2. Distribute the dataset IID among agents - cifar_iid\n",
    "    3. Every agent makes a copy of the global model\n",
    "\n",
    "    1. TRAINING GLOBAL ROUNDS/EPOCHS\n",
    "        1. If specified select how many local models updated by frac\n",
    "        2. UPDATE LOCAL MODELS\n",
    "            1. Get each local model from local_update_clients(idx) \n",
    "            2. Find the weight and loss of local model from update_ssl_weights\n",
    "                1. Run local epoch\n",
    "                    1. run local batches\n",
    "                    2. Use the given global model to run the local data through it to update the local model\n",
    "                    3. Return weights and the average loss\n",
    "            3. Get global weights by averaging the weights of local models\n",
    "            4. Update local models with the new global model\n",
    "    2. CLASSIFIER TRAINING\n",
    "        1. Tain a linear classifier using the learnt representations\n",
    "        2. Use global_repr_global_classifier()\n",
    "        3. We use ResnetCifarClassifier to see how well the trained model is performing "
   ]
  },
  {
   "cell_type": "code",
   "execution_count": null,
   "metadata": {},
   "outputs": [],
   "source": []
  }
 ],
 "metadata": {
  "kernelspec": {
   "display_name": "venv-metal",
   "language": "python",
   "name": "python3"
  },
  "language_info": {
   "codemirror_mode": {
    "name": "ipython",
    "version": 3
   },
   "file_extension": ".py",
   "mimetype": "text/x-python",
   "name": "python",
   "nbconvert_exporter": "python",
   "pygments_lexer": "ipython3",
   "version": "3.11.5"
  }
 },
 "nbformat": 4,
 "nbformat_minor": 2
}
